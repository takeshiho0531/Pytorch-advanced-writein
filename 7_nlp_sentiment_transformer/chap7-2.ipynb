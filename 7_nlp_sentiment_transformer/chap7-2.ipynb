{
 "cells": [
  {
   "cell_type": "markdown",
   "metadata": {},
   "source": [
    "## torchtextを用いたDataset,DataLoaderの実装"
   ]
  },
  {
   "cell_type": "code",
   "execution_count": 3,
   "metadata": {},
   "outputs": [],
   "source": [
    "#パッケージのインポート\n",
    "import glob\n",
    "import os\n",
    "import os.path as osp\n",
    "import random\n",
    "import numpy as np\n",
    "import json\n",
    "from PIL import Image\n",
    "from tqdm import tqdm\n",
    "import pandas as pd\n",
    "import matplotlib.pyplot as plt\n",
    "%matplotlib inline\n",
    "\n",
    "import torch\n",
    "import torch.nn as nn\n",
    "import torch.nn.functional as F\n",
    "import torch.nn.init as init\n",
    "import torch.optim as optim\n",
    "import torch.utils.data as data\n",
    "#import torchvision\n",
    "#from torchvision import models,transforms\n",
    "import cv2 \n",
    "import time\n",
    "import math\n",
    "from matplotlib import cm"
   ]
  },
  {
   "cell_type": "markdown",
   "metadata": {},
   "source": [
    "## 前処理と単語分割の関数を実装"
   ]
  },
  {
   "cell_type": "code",
   "execution_count": 4,
   "metadata": {},
   "outputs": [],
   "source": [
    "#単語分割はJanome\n",
    "from janome.tokenizer import Tokenizer\n",
    "\n",
    "j_t=Tokenizer()\n",
    "\n",
    "def tokenizer_janome(text):\n",
    "    return [tok for tok in j_t.tokenize(text,wakati=True)]"
   ]
  },
  {
   "cell_type": "code",
   "execution_count": 5,
   "metadata": {},
   "outputs": [],
   "source": [
    "#前処理として正規化する関数を定義\n",
    "import re\n",
    "\n",
    "def preprocessing_text(text):\n",
    "    #半角全角の統一\n",
    "    #今回は無視\n",
    "\n",
    "    #英語の小文字化\n",
    "    #今回は無視\n",
    "    #output=output.lower()\n",
    "\n",
    "    #改行、半角スペース、全角スペースを削除\n",
    "    text=re.sub(\"\\r\",\"\",text)\n",
    "    text=re.sub(\"\\n\",\"\",text)\n",
    "    text=re.sub(\"　\",\"\",text)\n",
    "    text=re.sub(\" \",\"\",text)\n",
    "\n",
    "    #数字文字の一律0化\n",
    "    text=re.sub(r\"[0-9 ０-９]\",\"0\",text) #数字\n",
    "    #記号と数字の除去\n",
    "    #今回は無視。半角記号・数字・英字\n",
    "    #今回は無視。全角記号\n",
    "\n",
    "    #特定の文字を正規表現で置換する\n",
    "    #今回は無視\n",
    "\n",
    "    return text\n",
    "\n"
   ]
  },
  {
   "cell_type": "code",
   "execution_count": 6,
   "metadata": {},
   "outputs": [],
   "source": [
    "#前処理とJanomeの単語分割を合わせた関数を定義する\n",
    "\n",
    "def tokenizer_with_preprocessing(text):\n",
    "    text=preprocessing_text(text) #前処理の正規化\n",
    "    ret=tokenizer_janome(text) #Janomeの単語分割\n",
    "    return ret\n"
   ]
  },
  {
   "cell_type": "code",
   "execution_count": 7,
   "metadata": {},
   "outputs": [
    {
     "name": "stdout",
     "output_type": "stream",
     "text": [
      "['昨日', 'は', 'とても', '暑く', '、', '気温', 'が', '00', '度', 'も', 'あっ', 'た', '。']\n"
     ]
    }
   ],
   "source": [
    "#動作確認\n",
    "text=\"昨日は　とても暑く、気温が36度もあった。\"\n",
    "print(tokenizer_with_preprocessing(text))"
   ]
  },
  {
   "cell_type": "markdown",
   "metadata": {},
   "source": [
    "## 文章データの読み込み"
   ]
  },
  {
   "cell_type": "code",
   "execution_count": 8,
   "metadata": {},
   "outputs": [],
   "source": [
    "import torchtext\n",
    "from torchtext import data"
   ]
  },
  {
   "cell_type": "code",
   "execution_count": 9,
   "metadata": {},
   "outputs": [],
   "source": [
    "#tsvやcsvデータを読み込んだときに、読み込んだ内容に対して行う処理を定義する。\n",
    "#文章とラベルの両方に用意\n",
    "max_length=25\n",
    "\n",
    "TEXT=torchtext.data.Field(sequential=True, tokenize=tokenizer_with_preprocessing,\n",
    "use_vocab=True,lower=True,include_lengths=True, batch_first=True,fix_length=max_length)\n",
    "\n",
    "LABEL=data.Field(sequential=False,use_vocab=False)"
   ]
  },
  {
   "cell_type": "code",
   "execution_count": 10,
   "metadata": {},
   "outputs": [],
   "source": [
    "#data.TabularDataset 詳細\n",
    "#https://torch.text.readthedocs.io/en/latest/examples.html?highlight=data.TabularDataset.splits\n",
    "\n",
    "#フォルダ「data」から各csvファイルを読み込み、Datasetにします\n",
    "#1行がTEXTとLABELで区切られていることをfieldsで指示します\n",
    "\n",
    "train_ds,val_ds,test_ds=torchtext.data.TabularDataset.splits(path=\"./data/\",\n",
    "train=\"text_train.tsv\",validation=\"text_val.tsv\",test=\"text_test.tsv\", format=\"tsv\",\n",
    "fields=[(\"Text\",TEXT),(\"Label\",LABEL)])"
   ]
  },
  {
   "cell_type": "code",
   "execution_count": 11,
   "metadata": {},
   "outputs": [
    {
     "name": "stdout",
     "output_type": "stream",
     "text": [
      "訓練データの数 4\n",
      "1つ目の訓練データ {'Text': ['王', 'と', '王子', 'と', '女王', 'と', '姫', 'と', '男性', 'と', '女性', 'が', 'い', 'まし', 'た', '。'], 'Label': '0'}\n",
      "2つ目の訓練データ {'Text': ['機械', '学習', 'が', '好き', 'です', '。'], 'Label': '1'}\n"
     ]
    }
   ],
   "source": [
    "#動作確認\n",
    "print(\"訓練データの数\",len(train_ds))\n",
    "print(\"1つ目の訓練データ\",vars(train_ds[0]))\n",
    "print(\"2つ目の訓練データ\",vars(train_ds[1]))"
   ]
  },
  {
   "cell_type": "markdown",
   "metadata": {},
   "source": [
    "## 単語の数値化"
   ]
  },
  {
   "cell_type": "code",
   "execution_count": 12,
   "metadata": {},
   "outputs": [
    {
     "data": {
      "text/plain": [
       "Counter({'王': 1,\n",
       "         'と': 5,\n",
       "         '王子': 1,\n",
       "         '女王': 1,\n",
       "         '姫': 1,\n",
       "         '男性': 1,\n",
       "         '女性': 1,\n",
       "         'が': 3,\n",
       "         'い': 1,\n",
       "         'まし': 1,\n",
       "         'た': 1,\n",
       "         '。': 4,\n",
       "         '機械': 1,\n",
       "         '学習': 1,\n",
       "         '好き': 1,\n",
       "         'です': 1,\n",
       "         '本章': 2,\n",
       "         'から': 1,\n",
       "         '自然': 1,\n",
       "         '言語': 1,\n",
       "         '処理': 1,\n",
       "         'に': 1,\n",
       "         '取り組み': 1,\n",
       "         'ます': 2,\n",
       "         'で': 1,\n",
       "         'は': 1,\n",
       "         '商品': 1,\n",
       "         'レビュー': 1,\n",
       "         'の': 4,\n",
       "         '短い': 1,\n",
       "         '文章': 4,\n",
       "         'に対して': 1,\n",
       "         '、': 3,\n",
       "         'その': 1,\n",
       "         'ネガティブ': 1,\n",
       "         'な': 4,\n",
       "         '評価': 2,\n",
       "         'を': 3,\n",
       "         'し': 3,\n",
       "         'て': 2,\n",
       "         'いる': 2,\n",
       "         'か': 2,\n",
       "         'ポジティブ': 1,\n",
       "         '0': 1,\n",
       "         '値': 1,\n",
       "         'クラス': 1,\n",
       "         '分類': 2,\n",
       "         'する': 1,\n",
       "         'モデル': 1,\n",
       "         '構築': 1})"
      ]
     },
     "execution_count": 12,
     "metadata": {},
     "output_type": "execute_result"
    }
   ],
   "source": [
    "#ボキャブラリーを作成します\n",
    "#訓練データtrainの単語からmin_freq以上の頻度の単語を使用してボキャブラリー(単語集)を構築\n",
    "TEXT.build_vocab(train_ds,min_freq=1)\n",
    "\n",
    "#訓練データtrainの単語からmin_freq以上の頻度を出力(頻度min_freqよりも大きいものが出力されます)\n",
    "TEXT.vocab.freqs #出力させる"
   ]
  },
  {
   "cell_type": "code",
   "execution_count": 13,
   "metadata": {},
   "outputs": [
    {
     "data": {
      "text/plain": [
       "defaultdict(<bound method Vocab._default_unk_index of <torchtext.vocab.Vocab object at 0x7fd5d9a96fd0>>,\n",
       "            {'<unk>': 0,\n",
       "             '<pad>': 1,\n",
       "             'と': 2,\n",
       "             '。': 3,\n",
       "             'な': 4,\n",
       "             'の': 5,\n",
       "             '文章': 6,\n",
       "             '、': 7,\n",
       "             'が': 8,\n",
       "             'し': 9,\n",
       "             'を': 10,\n",
       "             'いる': 11,\n",
       "             'か': 12,\n",
       "             'て': 13,\n",
       "             'ます': 14,\n",
       "             '分類': 15,\n",
       "             '本章': 16,\n",
       "             '評価': 17,\n",
       "             '0': 18,\n",
       "             'い': 19,\n",
       "             'から': 20,\n",
       "             'する': 21,\n",
       "             'その': 22,\n",
       "             'た': 23,\n",
       "             'で': 24,\n",
       "             'です': 25,\n",
       "             'に': 26,\n",
       "             'に対して': 27,\n",
       "             'は': 28,\n",
       "             'まし': 29,\n",
       "             'クラス': 30,\n",
       "             'ネガティブ': 31,\n",
       "             'ポジティブ': 32,\n",
       "             'モデル': 33,\n",
       "             'レビュー': 34,\n",
       "             '値': 35,\n",
       "             '処理': 36,\n",
       "             '取り組み': 37,\n",
       "             '商品': 38,\n",
       "             '女性': 39,\n",
       "             '女王': 40,\n",
       "             '好き': 41,\n",
       "             '姫': 42,\n",
       "             '学習': 43,\n",
       "             '構築': 44,\n",
       "             '機械': 45,\n",
       "             '王': 46,\n",
       "             '王子': 47,\n",
       "             '男性': 48,\n",
       "             '短い': 49,\n",
       "             '自然': 50,\n",
       "             '言語': 51})"
      ]
     },
     "execution_count": 13,
     "metadata": {},
     "output_type": "execute_result"
    }
   ],
   "source": [
    "#ボキャブラリーの単語をidに変換した結果を出力\n",
    "#頻度がmin_freqより小さい場合は未知語<unk>になる\n",
    "\n",
    "TEXT.vocab.stoi #出力。string to identifiers 文字列をidへ"
   ]
  },
  {
   "cell_type": "markdown",
   "metadata": {},
   "source": [
    "## DataLoaderの作成"
   ]
  },
  {
   "cell_type": "code",
   "execution_count": 14,
   "metadata": {},
   "outputs": [],
   "source": [
    "#DataLoaderを作成します(torchtextの文脈では単純にiteraterと呼ばれています)\n",
    "train_dl=torchtext.data.Iterator(train_ds,batch_size=2,train=True)\n",
    "\n",
    "val_dl=torchtext.data.Iterator(val_ds,batch_size=2,train=False,sort=False)\n",
    "\n",
    "test_dl=torchtext.data.Iterator(test_ds,batch_size=2,train=False,sort=False)"
   ]
  },
  {
   "cell_type": "code",
   "execution_count": 15,
   "metadata": {},
   "outputs": [
    {
     "name": "stdout",
     "output_type": "stream",
     "text": [
      "(tensor([[46,  2, 47,  2, 40,  2, 42,  2, 48,  2, 39,  8, 19, 29, 23,  3,  1,  1,\n",
      "          1,  1,  1,  1,  1,  1,  1],\n",
      "        [45, 43,  8, 41, 25,  3,  1,  1,  1,  1,  1,  1,  1,  1,  1,  1,  1,  1,\n",
      "          1,  1,  1,  1,  1,  1,  1]]), tensor([16,  6]))\n",
      "tensor([0, 1])\n"
     ]
    }
   ],
   "source": [
    "#動作確認 検証データのデータセットで確認\n",
    "batch=next(iter(val_dl))\n",
    "print(batch.Text)\n",
    "print(batch.Label)"
   ]
  }
 ],
 "metadata": {
  "kernelspec": {
   "display_name": "Python 3.7.13 ('pytorchenv')",
   "language": "python",
   "name": "python3"
  },
  "language_info": {
   "codemirror_mode": {
    "name": "ipython",
    "version": 3
   },
   "file_extension": ".py",
   "mimetype": "text/x-python",
   "name": "python",
   "nbconvert_exporter": "python",
   "pygments_lexer": "ipython3",
   "version": "3.7.13"
  },
  "orig_nbformat": 4,
  "vscode": {
   "interpreter": {
    "hash": "8eafc1c3d0ba1f317c23d0e9aa4360a9d8a5b5ceacbb507f9d0793fa2c9bc9e9"
   }
  }
 },
 "nbformat": 4,
 "nbformat_minor": 2
}
